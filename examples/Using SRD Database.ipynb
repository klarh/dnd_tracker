{
 "cells": [
  {
   "cell_type": "markdown",
   "metadata": {
    "colab_type": "text",
    "id": "6-YovxrNNu0u"
   },
   "source": [
    "This colab notebook creates an example campaign and populates the stats table with all the monsters available in the [5e API](https://github.com/adrpadua/5e-database) available at http://dnd5eapi.co/ . \n",
    "\n",
    "The basic idea of `dnd_tracker` is that you would have perhaps one notebook per adventure session, allowing you to keep a log of what happened during the campaign. \n",
    "\n",
    "If you've never used a notebook before, you can run each block of code sequentially by repeatedly using Shift+Enter; to run a code block and note move forward (as you would during combat to view the status without progressing), use Control+Enter.\n",
    "\n",
    "First, we install the library and create an example campaign."
   ]
  },
  {
   "cell_type": "code",
   "execution_count": null,
   "metadata": {
    "colab": {},
    "colab_type": "code",
    "id": "1BHICn_uIng6"
   },
   "outputs": [],
   "source": [
    "!pip install git+https://github.com/klarh/dnd_tracker.git\n",
    "\n",
    "import dnd_tracker\n",
    "camp = dnd_tracker.Campaign('example')"
   ]
  },
  {
   "cell_type": "markdown",
   "metadata": {
    "colab_type": "text",
    "id": "rUdQcbfZO_vc"
   },
   "source": [
    "Next, we load the data from the 5e API project."
   ]
  },
  {
   "cell_type": "code",
   "execution_count": null,
   "metadata": {
    "colab": {},
    "colab_type": "code",
    "id": "3QUssDeYI59N"
   },
   "outputs": [],
   "source": [
    "import json\n",
    "import urllib\n",
    "\n",
    "url = 'https://github.com/bagelbits/5e-database/blob/master/src/5e-SRD-Monsters.json?raw=true'\n",
    "req = urllib.request.urlopen(url)\n",
    "all_mobs = json.load(req)\n",
    "\n",
    "get_mod = lambda stat: (stat - 10)//2\n",
    "all_stats = ['strength', 'dexterity', 'constitution', 'intelligence', 'wisdom', 'charisma']\n",
    "\n",
    "for mob in all_mobs:\n",
    "    saves = {name[:3]: get_mod(mob[name]) for name in all_stats}\n",
    "\n",
    "    for prof in mob['proficiencies']:\n",
    "        if prof['name'].startswith('Saving Throw:'):\n",
    "            short_name = prof['name'][-3:].lower()\n",
    "            value = prof['value']\n",
    "            saves[short_name] = value\n",
    "\n",
    "    combat_stats = dict(\n",
    "        ac=mob['armor_class'],\n",
    "        dex=mob.get('dexterity', 10),\n",
    "        hp=mob['hit_points'],\n",
    "        saves=saves,\n",
    "    )\n",
    "\n",
    "    resistances = combat_stats['resistances'] = {}\n",
    "\n",
    "    for type_ in mob['damage_immunities']:\n",
    "        resistances[type_] = 0\n",
    "    for type_ in mob['damage_resistances']:\n",
    "        resistances[type_] = .5\n",
    "    for type_ in mob['damage_vulnerabilities']:\n",
    "        resistances[type_] = 2\n",
    "\n",
    "    name = mob['name']\n",
    "    camp.set_combat_stats(name, **combat_stats)\n"
   ]
  },
  {
   "cell_type": "markdown",
   "metadata": {
    "colab_type": "text",
    "id": "vq6pZqmIPLt4"
   },
   "source": [
    "Now we can initiate combat and use the data that were loaded from the API!"
   ]
  },
  {
   "cell_type": "code",
   "execution_count": null,
   "metadata": {
    "colab": {},
    "colab_type": "code",
    "id": "xeuOfcnuJZM5"
   },
   "outputs": [],
   "source": [
    "cb = camp.begin_combat('test combat')\n",
    "\n",
    "rogue = cb.add('rogue', 23, ac=15)\n",
    "cleric = cb.add('cleric', 4, ac=18)\n",
    "goblin = cb.add('Goblin', 12)\n",
    "ghoul = cb.add('Ghoul', 16)\n",
    "ghoul2 = cb.add('Ghoul', 16)\n",
    "# have the starting stats be displayed immediately\n",
    "cb.show()\n",
    "\n",
    "rogue.damage(goblin, 6)\n",
    "ghoul.damage(rogue, 6)\n",
    "ghoul2.damage(cleric, 4)\n",
    "# goblin missed\n",
    "cleric.damage(ghoul, 8, type='radiant')\n",
    "\n",
    "rogue.damage(goblin, 3)\n",
    "# ghoul missed\n",
    "# ghoul2 missed\n",
    "goblin.damage(rogue, 3)\n",
    "cleric.damage(ghoul, 3, type='radiant')\n",
    "\n",
    "cb.plot_damage_summary()\n",
    "cb"
   ]
  },
  {
   "cell_type": "code",
   "execution_count": null,
   "metadata": {},
   "outputs": [],
   "source": []
  }
 ],
 "metadata": {
  "colab": {
   "collapsed_sections": [],
   "name": "Using SRD Database.ipynb",
   "provenance": []
  },
  "kernelspec": {
   "display_name": "Python 3",
   "language": "python",
   "name": "python3"
  },
  "language_info": {
   "codemirror_mode": {
    "name": "ipython",
    "version": 3
   },
   "file_extension": ".py",
   "mimetype": "text/x-python",
   "name": "python",
   "nbconvert_exporter": "python",
   "pygments_lexer": "ipython3",
   "version": "3.8.1"
  }
 },
 "nbformat": 4,
 "nbformat_minor": 1
}
