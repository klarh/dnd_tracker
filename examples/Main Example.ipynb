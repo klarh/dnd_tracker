{
 "cells": [
  {
   "cell_type": "markdown",
   "metadata": {},
   "source": [
    "This notebook illustrates the basic usage of `dnd_tracker` for a combat situation. First we create a `Campaign` object, which in the future will remember statistics of monsters and players (but currently does nothing of importance)."
   ]
  },
  {
   "cell_type": "code",
   "execution_count": null,
   "metadata": {},
   "outputs": [],
   "source": [
    "import dnd_tracker\n",
    "cmp = dnd_tracker.Campaign('example')"
   ]
  },
  {
   "cell_type": "markdown",
   "metadata": {},
   "source": [
    "Next, we create a combat scenario. This keeps track of several of the main things one may want to display in combat, like HP counts of monsters, initiative order, and saving throws. The intent of this API is for each cell to correspond to a single combat encounter, being edited and run repeatedly to provide a living dashboard of the current status of all combat participants."
   ]
  },
  {
   "cell_type": "code",
   "execution_count": null,
   "metadata": {},
   "outputs": [],
   "source": [
    "cb = cmp.begin_combat('first fight')\n",
    "rogue = cb.add('rogue', 24, ac=16)\n",
    "wizard = cb.add('wizard', 12, ac=12)\n",
    "gobbo = cb.add('goblin', 16, ac=15, hp=7)\n",
    "kobold1 = cb.add('kobold', 16, ac=12, hp=5)\n",
    "kobold2 = cb.add('kobold', 16, ac=12, hp=5)\n",
    "\n",
    "rogue.damage(gobbo, 3)\n",
    "gobbo.damage(rogue, 4)\n",
    "kobold1.damage(wizard, 3)\n",
    "kobold2.damage(wizard, 3)\n",
    "\n",
    "cb"
   ]
  },
  {
   "cell_type": "code",
   "execution_count": null,
   "metadata": {},
   "outputs": [],
   "source": []
  }
 ],
 "metadata": {
  "kernelspec": {
   "display_name": "Python 3",
   "language": "python",
   "name": "python3"
  },
  "language_info": {
   "codemirror_mode": {
    "name": "ipython",
    "version": 3
   },
   "file_extension": ".py",
   "mimetype": "text/x-python",
   "name": "python",
   "nbconvert_exporter": "python",
   "pygments_lexer": "ipython3",
   "version": "3.7.3"
  }
 },
 "nbformat": 4,
 "nbformat_minor": 2
}
